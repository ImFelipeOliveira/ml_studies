{
 "cells": [
  {
   "cell_type": "code",
   "execution_count": 32,
   "id": "031a2bf0",
   "metadata": {},
   "outputs": [],
   "source": [
    "import pandas as pd\n",
    "import numpy as np\n",
    "from sklearn.impute import SimpleImputer\n",
    "\n",
    "file_path = \"data/admission.csv\"\n",
    "\n",
    "def extract_data():\n",
    "  df = pd.read_csv(file_path, delimiter=\";\")\n",
    "  x = df.iloc[:,:-1].values\n",
    "  y = df.iloc[:,-1].values\n",
    "  return x, y\n",
    "\n",
    "# Imputando dados faltantes\n",
    "def impute_data():\n",
    "  X, y = extract_data()\n",
    "  imputer = SimpleImputer(strategy=\"mean\")\n",
    "  X[:,1:] = imputer.fit_transform(X[:, 1:])  # Impute only numerical columns\n",
    "  return X, y\n"
   ]
  },
  {
   "cell_type": "code",
   "execution_count": null,
   "id": "da80efed",
   "metadata": {},
   "outputs": [],
   "source": [
    "#Computando os rotulos para variaveis categoricas\n",
    "def one_hot_encode_categorical_data():\n",
    "  X, y = impute_data()\n",
    "  D = pd.get_dummies(X[:, 0], dtype=int)\n",
    "  X = np.insert(X[:, 1:], 0, D.values, axis=1)\n",
    "  return X, y"
   ]
  },
  {
   "cell_type": "code",
   "execution_count": 61,
   "id": "1dad9542",
   "metadata": {},
   "outputs": [],
   "source": [
    "#Sepaarando conjunto de dados de treino e teste\n",
    "from sklearn.model_selection import train_test_split\n",
    "\n",
    "def split_data():\n",
    "    X, y = one_hot_encode_categorical_data()\n",
    "    return train_test_split(X, y, test_size=0.2)"
   ]
  },
  {
   "cell_type": "code",
   "execution_count": 62,
   "id": "50319cd3",
   "metadata": {},
   "outputs": [],
   "source": [
    "from sklearn.preprocessing import StandardScaler\n",
    "\n",
    "# Computando a normalização dos dados\n",
    "def normalize_data():\n",
    "  XTrain, XTest, yTrain, yTest = split_data()\n",
    "  scaler = StandardScaler()\n",
    "  XTrain = scaler.fit_transform(XTrain)\n",
    "  XTest = scaler.fit_transform(XTest)\n",
    "  print(XTrain)\n",
    "  "
   ]
  },
  {
   "cell_type": "code",
   "execution_count": 63,
   "id": "cec27ae5",
   "metadata": {},
   "outputs": [
    {
     "name": "stdout",
     "output_type": "stream",
     "text": [
      "[[-0.40824829  2.44948974 -0.40824829  0.         -0.40824829 -0.40824829\n",
      "   0.         -0.40824829 -0.40824829  1.66022419  1.69057315  0.91766294\n",
      "   1.42411021  1.2493901   1.78358472  0.8660254 ]\n",
      " [-0.40824829 -0.40824829  2.44948974  0.         -0.40824829 -0.40824829\n",
      "   0.         -0.40824829 -0.40824829  1.0392243   1.21081591  1.720618\n",
      "   1.42411021 -0.3904344   1.31444789  0.8660254 ]\n",
      " [-0.40824829 -0.40824829 -0.40824829  0.          2.44948974 -0.40824829\n",
      "   0.         -0.40824829 -0.40824829 -1.44477525 -0.86813216 -1.49120227\n",
      "  -1.1992507  -2.0302589  -0.71343389 -1.15470054]\n",
      " [-0.40824829 -0.40824829 -0.40824829  0.         -0.40824829 -0.40824829\n",
      "   0.          2.44948974 -0.40824829 -0.20277547 -0.54829399  0.11470787\n",
      "  -0.14990634  0.15617376 -0.71343389  0.8660254 ]\n",
      " [ 2.44948974 -0.40824829 -0.40824829  0.         -0.40824829 -0.40824829\n",
      "   0.         -0.40824829 -0.40824829  0.24079587  0.25130141  0.11470787\n",
      "  -0.14990634  0.70278193 -0.41076497  0.8660254 ]\n",
      " [-0.40824829 -0.40824829 -0.40824829  0.         -0.40824829 -0.40824829\n",
      "   0.         -0.40824829  2.44948974 -0.91248963 -1.02805124 -0.6882472\n",
      "  -0.14990634  0.70278193 -0.86476835 -1.15470054]\n",
      " [-0.40824829 -0.40824829 -0.40824829  0.         -0.40824829  2.44948974\n",
      "   0.         -0.40824829 -0.40824829 -0.38020401 -0.70821308 -0.6882472\n",
      "  -1.1992507  -0.3904344  -0.39563152 -1.15470054]]\n"
     ]
    }
   ],
   "source": [
    "normalize_data()"
   ]
  },
  {
   "cell_type": "code",
   "execution_count": null,
   "id": "c63287a3",
   "metadata": {},
   "outputs": [],
   "source": []
  }
 ],
 "metadata": {
  "kernelspec": {
   "display_name": "env",
   "language": "python",
   "name": "python3"
  },
  "language_info": {
   "codemirror_mode": {
    "name": "ipython",
    "version": 3
   },
   "file_extension": ".py",
   "mimetype": "text/x-python",
   "name": "python",
   "nbconvert_exporter": "python",
   "pygments_lexer": "ipython3",
   "version": "3.13.0"
  }
 },
 "nbformat": 4,
 "nbformat_minor": 5
}
