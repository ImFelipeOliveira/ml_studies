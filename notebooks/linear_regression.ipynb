{
 "cells": [
  {
   "cell_type": "code",
   "execution_count": 2,
   "id": "a18a500e",
   "metadata": {},
   "outputs": [],
   "source": [
    "import pandas as pd\n",
    "import numpy as np\n",
    "from sklearn.impute import SimpleImputer\n",
    "\n",
    "file_path = \"data/svbr.csv\"\n",
    "\n",
    "def extract_data(file_path: str) -> tuple[np.ndarray, np.ndarray]:\n",
    "  df = pd.read_csv(file_path, delimiter=\";\")\n",
    "  x = df.iloc[:,:-1].values\n",
    "  y = df.iloc[:,-1].values\n",
    "  return x, y\n",
    "\n",
    "# Imputando dados faltantes\n",
    "def impute_data(X: np.ndarray) -> np.ndarray:\n",
    "  imputer = SimpleImputer(missing_values=np.nan, strategy='median')\n",
    "  X[:,1:] = imputer.fit_transform(X[:, 1:])  # Impute only numerical columns\n",
    "  return X\n"
   ]
  },
  {
   "cell_type": "code",
   "execution_count": 3,
   "id": "00f557de",
   "metadata": {},
   "outputs": [],
   "source": [
    "#Computando os rotulos para variaveis categoricas\n",
    "from numpy import ndarray\n",
    "\n",
    "\n",
    "def one_hot_encode_categorical_data(X: ndarray) -> ndarray:\n",
    "  D = pd.get_dummies(X[:, 0])\n",
    "  X = np.insert(X[:, 1:], 0, D.values, axis=1)\n",
    "  return X"
   ]
  },
  {
   "cell_type": "code",
   "execution_count": 4,
   "id": "a1e998e5",
   "metadata": {},
   "outputs": [],
   "source": [
    "#Sepaarando conjunto de dados de treino e teste\n",
    "from sklearn.model_selection import train_test_split\n",
    "\n",
    "def split_train_data(X: ndarray, y: ndarray, subscriptions: int, test_size: float) -> list:\n",
    "    return train_test_split(X, y, subscriptions, test_size=test_size)"
   ]
  },
  {
   "cell_type": "code",
   "execution_count": 5,
   "id": "7710f5ab",
   "metadata": {},
   "outputs": [],
   "source": [
    "from sklearn.preprocessing import StandardScaler\n",
    "\n",
    "# Computando a normalização dos dados\n",
    "def normalize_data(XTrain: ndarray, XTest: ndarray) -> tuple[ndarray, ndarray]:\n",
    "  scaler = StandardScaler()\n",
    "  XTrain = scaler.fit_transform(XTrain)\n",
    "  XTest = scaler.fit_transform(XTest)\n",
    "  return XTrain, XTest"
   ]
  },
  {
   "cell_type": "code",
   "execution_count": 6,
   "id": "45a148eb",
   "metadata": {},
   "outputs": [],
   "source": [
    "from sklearn.linear_model import LinearRegression\n",
    "\n",
    "def linear_regression(Xtrain, Xtest, YTrain):\n",
    "  model = LinearRegression()\n",
    "  model.fit(Xtrain, YTrain)\n",
    "  predictions = model.predict(Xtest)\n",
    "  return predictions"
   ]
  },
  {
   "cell_type": "code",
   "execution_count": 7,
   "id": "abf78818",
   "metadata": {},
   "outputs": [],
   "source": [
    "from matplotlib import pyplot as plt\n",
    "def make_graphic(subsTest, Ytest, predictions):\n",
    "  plt.scatter(subsTest, Ytest, color=\"red\")\n",
    "  plt.plot(subsTest, predictions, color=\"blue\")\n",
    "  plt.title(\"Subscriptions VS Visualizations\")\n",
    "  plt.xlabel(\"Subscriptions\")\n",
    "  plt.ylabel(\"Visualizations\")\n",
    "  plt.show()"
   ]
  },
  {
   "cell_type": "code",
   "execution_count": 8,
   "id": "5113d8fb",
   "metadata": {},
   "outputs": [],
   "source": [
    "def main():\n",
    "  dataX, dataY = extract_data(file_path)\n",
    "  subscriptions = dataX[:, 1]\n",
    "  imputedX = impute_data(dataX,)\n",
    "  encodedX = one_hot_encode_categorical_data(imputedX)\n",
    "  XTrain, XTest, yTrain, yTest, subsTrain, subsTest  = split_train_data(\n",
    "    encodedX, \n",
    "    dataY, \n",
    "    subscriptions, \n",
    "    test_size=0.2\n",
    "  )\n",
    "  XTrain, XTest = normalize_data(XTrain, XTest)\n",
    "  predictions = linear_regression(XTrain, XTest, yTrain)\n",
    "  make_graphic(subsTest, yTest, predictions)"
   ]
  },
  {
   "cell_type": "code",
   "execution_count": null,
   "id": "474ac721",
   "metadata": {},
   "outputs": [],
   "source": [
    "main()"
   ]
  }
 ],
 "metadata": {
  "kernelspec": {
   "display_name": "env",
   "language": "python",
   "name": "python3"
  },
  "language_info": {
   "codemirror_mode": {
    "name": "ipython",
    "version": 3
   },
   "file_extension": ".py",
   "mimetype": "text/x-python",
   "name": "python",
   "nbconvert_exporter": "python",
   "pygments_lexer": "ipython3",
   "version": "3.13.0"
  }
 },
 "nbformat": 4,
 "nbformat_minor": 5
}
