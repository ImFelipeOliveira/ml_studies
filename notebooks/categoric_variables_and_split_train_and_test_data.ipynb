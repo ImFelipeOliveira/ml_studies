{
  "cells": [
    {
      "cell_type": "code",
      "execution_count": 1,
      "metadata": {
        "colab": {
          "base_uri": "https://localhost:8080/"
        },
        "id": "8A6HVTFoJx13",
        "outputId": "0af80988-9fc2-4bf0-f908-6974a571577a"
      },
      "outputs": [
        {
          "name": "stdout",
          "output_type": "stream",
          "text": [
            "Requirement already satisfied: pandas in /home/felipeoliveira/Repositories/machine-learning/env/lib/python3.13/site-packages (2.3.1)\n",
            "Requirement already satisfied: numpy>=1.26.0 in /home/felipeoliveira/Repositories/machine-learning/env/lib/python3.13/site-packages (from pandas) (2.3.2)\n",
            "Requirement already satisfied: python-dateutil>=2.8.2 in /home/felipeoliveira/Repositories/machine-learning/env/lib/python3.13/site-packages (from pandas) (2.9.0.post0)\n",
            "Requirement already satisfied: pytz>=2020.1 in /home/felipeoliveira/Repositories/machine-learning/env/lib/python3.13/site-packages (from pandas) (2025.2)\n",
            "Requirement already satisfied: tzdata>=2022.7 in /home/felipeoliveira/Repositories/machine-learning/env/lib/python3.13/site-packages (from pandas) (2025.2)\n",
            "Requirement already satisfied: six>=1.5 in /home/felipeoliveira/Repositories/machine-learning/env/lib/python3.13/site-packages (from python-dateutil>=2.8.2->pandas) (1.17.0)\n",
            "\n",
            "\u001b[1m[\u001b[0m\u001b[34;49mnotice\u001b[0m\u001b[1;39;49m]\u001b[0m\u001b[39;49m A new release of pip is available: \u001b[0m\u001b[31;49m24.2\u001b[0m\u001b[39;49m -> \u001b[0m\u001b[32;49m25.2\u001b[0m\n",
            "\u001b[1m[\u001b[0m\u001b[34;49mnotice\u001b[0m\u001b[1;39;49m]\u001b[0m\u001b[39;49m To update, run: \u001b[0m\u001b[32;49mpip install --upgrade pip\u001b[0m\n",
            "Requirement already satisfied: numpy in /home/felipeoliveira/Repositories/machine-learning/env/lib/python3.13/site-packages (2.3.2)\n",
            "\n",
            "\u001b[1m[\u001b[0m\u001b[34;49mnotice\u001b[0m\u001b[1;39;49m]\u001b[0m\u001b[39;49m A new release of pip is available: \u001b[0m\u001b[31;49m24.2\u001b[0m\u001b[39;49m -> \u001b[0m\u001b[32;49m25.2\u001b[0m\n",
            "\u001b[1m[\u001b[0m\u001b[34;49mnotice\u001b[0m\u001b[1;39;49m]\u001b[0m\u001b[39;49m To update, run: \u001b[0m\u001b[32;49mpip install --upgrade pip\u001b[0m\n",
            "Requirement already satisfied: scikit-learn in /home/felipeoliveira/Repositories/machine-learning/env/lib/python3.13/site-packages (1.7.1)\n",
            "Requirement already satisfied: numpy>=1.22.0 in /home/felipeoliveira/Repositories/machine-learning/env/lib/python3.13/site-packages (from scikit-learn) (2.3.2)\n",
            "Requirement already satisfied: scipy>=1.8.0 in /home/felipeoliveira/Repositories/machine-learning/env/lib/python3.13/site-packages (from scikit-learn) (1.16.1)\n",
            "Requirement already satisfied: joblib>=1.2.0 in /home/felipeoliveira/Repositories/machine-learning/env/lib/python3.13/site-packages (from scikit-learn) (1.5.1)\n",
            "Requirement already satisfied: threadpoolctl>=3.1.0 in /home/felipeoliveira/Repositories/machine-learning/env/lib/python3.13/site-packages (from scikit-learn) (3.6.0)\n",
            "\n",
            "\u001b[1m[\u001b[0m\u001b[34;49mnotice\u001b[0m\u001b[1;39;49m]\u001b[0m\u001b[39;49m A new release of pip is available: \u001b[0m\u001b[31;49m24.2\u001b[0m\u001b[39;49m -> \u001b[0m\u001b[32;49m25.2\u001b[0m\n",
            "\u001b[1m[\u001b[0m\u001b[34;49mnotice\u001b[0m\u001b[1;39;49m]\u001b[0m\u001b[39;49m To update, run: \u001b[0m\u001b[32;49mpip install --upgrade pip\u001b[0m\n"
          ]
        }
      ],
      "source": [
        "!pip install pandas\n",
        "!pip install numpy\n",
        "!pip install scikit-learn"
      ]
    },
    {
      "cell_type": "code",
      "execution_count": 3,
      "metadata": {
        "id": "FTBKLWjrJ8yx"
      },
      "outputs": [],
      "source": [
        "import requests\n",
        "\n",
        "file_path = \"data/admission.csv\"\n",
        "\n",
        "def download_database():\n",
        "  response = requests.get(\"https://raw.githubusercontent.com/lucaslattari/MachineLearningSeries/refs/heads/master/Ep%202/admission.csv\", stream=True)\n",
        "  response.raise_for_status()\n",
        "\n",
        "  with open(file_path, \"wb\") as file:\n",
        "    for chunk in response.iter_content(chunk_size=8192):\n",
        "      file.write(chunk)"
      ]
    },
    {
      "cell_type": "code",
      "execution_count": 4,
      "metadata": {
        "id": "Grh-sNAMLN4o"
      },
      "outputs": [],
      "source": [
        "download_database()"
      ]
    },
    {
      "cell_type": "code",
      "execution_count": null,
      "metadata": {
        "colab": {
          "base_uri": "https://localhost:8080/"
        },
        "id": "JZGGkhkQLO8h",
        "outputId": "b9166193-cbe5-4962-ced4-bd1acbedcbae"
      },
      "outputs": [
        {
          "data": {
            "text/plain": [
              "(array([['Lucas', 337, 118, 4, 4.5, 4.5, 9.65, 1],\n",
              "        ['Ana', 324, 107, 4, 4.0, 4.5, 8.87, 1],\n",
              "        ['Jose', 316, 104, 3, 3.0, 3.5, 8.0, 1],\n",
              "        ['Carlos', 322, 110, 3, 3.5, 2.5, 8.67, 1],\n",
              "        ['Zileide', 314, 103, 2, 2.0, 3.0, 8.21, 0],\n",
              "        ['Joana', 330, 115, 5, 4.5, 3.0, 9.34, 1],\n",
              "        ['Davi', 321, 109, 3, 3.0, 4.0, 8.2, 1],\n",
              "        ['Daniel', 308, 101, 2, 3.0, 4.0, 7.9, 0],\n",
              "        ['Marcelo', 302, 102, 1, 2.0, 1.5, 8.0, 0]], dtype=object),\n",
              " array([1, 1, 1, 1, 0, 1, 1, 0, 0]))"
            ]
          },
          "execution_count": 25,
          "metadata": {},
          "output_type": "execute_result"
        }
      ],
      "source": [
        "import pandas as pd\n",
        "import numpy as np\n",
        "\n",
        "def extract_data():\n",
        "  df = pd.read_csv(file_path, delimiter=\";\")\n",
        "  x = df.iloc[:,:-1].values\n",
        "  y = df.iloc[:,-1].values\n",
        "  return x, y\n",
        "\n",
        "extract_data()"
      ]
    },
    {
      "cell_type": "code",
      "execution_count": 26,
      "metadata": {
        "id": "qv8xhr1AoRbQ"
      },
      "outputs": [],
      "source": [
        "from sklearn.impute import SimpleImputer\n",
        "\n",
        "def impute_data():\n",
        "  X, y = extract_data()\n",
        "  imputer = SimpleImputer(missing_values=np.nan, strategy=\"median\")\n",
        "  imputer = imputer.fit_transform(X[:,1:])\n",
        "  X[:,1:] = imputer\n",
        "  return X, y"
      ]
    },
    {
      "cell_type": "code",
      "execution_count": 33,
      "metadata": {
        "id": "oTFeqo5PN4UX"
      },
      "outputs": [],
      "source": [
        "from sklearn.preprocessing import LabelEncoder\n",
        "from pprint import pprint\n",
        "\n",
        "\n",
        "# Decodifica as labels para IDs, ao treinar o modelo não é recomendado passar os dados com os ids\n",
        "def encoder_label_data():\n",
        "  labelencoder_x = LabelEncoder()\n",
        "  X, y = extract_data()\n",
        "  X[:, 0] = labelencoder_x.fit_transform(X[:, 0])\n",
        "  pprint(X)\n",
        "\n",
        "\n",
        "# RECOMENDAÇÃO - Usar One-Hot Encoding para decodificar as label em binários\n",
        "def one_hot_encoding():\n",
        "  X, y = impute_data()\n",
        "  names_column = X[:, 0]\n",
        "  names_one_hot = pd.get_dummies(names_column, dtype=int)\n",
        "  numerical_columns = X[:, 1:]\n",
        "  X = np.insert(numerical_columns, 0, names_one_hot.values, axis=1)\n",
        "  return X, y\n"
      ]
    },
    {
      "cell_type": "code",
      "execution_count": 34,
      "metadata": {
        "colab": {
          "base_uri": "https://localhost:8080/"
        },
        "id": "Xzt4GrTKimgH",
        "outputId": "9af7e692-735d-473c-ccf2-f3de779d1a9f"
      },
      "outputs": [
        {
          "name": "stdout",
          "output_type": "stream",
          "text": [
            "array([[6, 337, 118, 4, 4.5, 4.5, 9.65, 1],\n",
            "       [0, 324, 107, 4, 4.0, 4.5, 8.87, 1],\n",
            "       [5, 316, 104, 3, 3.0, 3.5, 8.0, 1],\n",
            "       [1, 322, 110, 3, 3.5, 2.5, 8.67, 1],\n",
            "       [8, 314, 103, 2, 2.0, 3.0, 8.21, 0],\n",
            "       [4, 330, 115, 5, 4.5, 3.0, 9.34, 1],\n",
            "       [3, 321, 109, 3, 3.0, 4.0, 8.2, 1],\n",
            "       [2, 308, 101, 2, 3.0, 4.0, 7.9, 0],\n",
            "       [7, 302, 102, 1, 2.0, 1.5, 8.0, 0]], dtype=object)\n"
          ]
        }
      ],
      "source": [
        "encoder_label_data()"
      ]
    },
    {
      "cell_type": "code",
      "execution_count": 35,
      "metadata": {
        "colab": {
          "base_uri": "https://localhost:8080/"
        },
        "id": "zHWUhaV7i89c",
        "outputId": "5ff355dd-840e-4d9d-9002-99e615fa793a"
      },
      "outputs": [
        {
          "data": {
            "text/plain": [
              "(array([[0, 1, 0, 0, 0, 0, 0, 0, 0, 337.0, 118.0, 4.0, 4.5, 4.5, 9.65,\n",
              "         1.0],\n",
              "        [0, 0, 0, 1, 0, 0, 0, 0, 0, 324.0, 107.0, 4.0, 4.0, 4.5, 8.87,\n",
              "         1.0],\n",
              "        [0, 0, 0, 0, 0, 0, 0, 1, 0, 316.0, 104.0, 3.0, 3.0, 3.5, 8.0, 1.0],\n",
              "        [0, 0, 0, 0, 0, 0, 1, 0, 0, 322.0, 110.0, 3.0, 3.5, 2.5, 8.67,\n",
              "         1.0],\n",
              "        [0, 0, 0, 0, 0, 1, 0, 0, 0, 314.0, 103.0, 2.0, 2.0, 3.0, 8.21,\n",
              "         0.0],\n",
              "        [0, 0, 1, 0, 0, 0, 0, 0, 0, 330.0, 115.0, 5.0, 4.5, 3.0, 9.34,\n",
              "         1.0],\n",
              "        [1, 0, 0, 0, 0, 0, 0, 0, 0, 321.0, 109.0, 3.0, 3.0, 4.0, 8.2, 1.0],\n",
              "        [0, 0, 0, 0, 0, 0, 0, 0, 1, 308.0, 101.0, 2.0, 3.0, 4.0, 7.9, 0.0],\n",
              "        [0, 0, 0, 0, 1, 0, 0, 0, 0, 302.0, 102.0, 1.0, 2.0, 1.5, 8.0, 0.0]],\n",
              "       dtype=object),\n",
              " array([1, 1, 1, 1, 0, 1, 1, 0, 0]))"
            ]
          },
          "execution_count": 35,
          "metadata": {},
          "output_type": "execute_result"
        }
      ],
      "source": [
        "one_hot_encoding()"
      ]
    },
    {
      "cell_type": "code",
      "execution_count": 38,
      "metadata": {
        "id": "9vCzNuO4i_NX"
      },
      "outputs": [
        {
          "name": "stdout",
          "output_type": "stream",
          "text": [
            "XTrain: [[0 0 0 0 1 0 0 0 0 302.0 102.0 1.0 2.0 1.5 8.0 0.0]\n",
            " [0 0 0 0 0 0 1 0 0 322.0 110.0 3.0 3.5 2.5 8.67 1.0]\n",
            " [0 0 0 0 0 0 0 0 1 308.0 101.0 2.0 3.0 4.0 7.9 0.0]\n",
            " [0 0 0 0 0 0 0 1 0 316.0 104.0 3.0 3.0 3.5 8.0 1.0]\n",
            " [0 0 0 1 0 0 0 0 0 324.0 107.0 4.0 4.0 4.5 8.87 1.0]\n",
            " [0 0 0 0 0 1 0 0 0 314.0 103.0 2.0 2.0 3.0 8.21 0.0]\n",
            " [0 1 0 0 0 0 0 0 0 337.0 118.0 4.0 4.5 4.5 9.65 1.0]]\n",
            "XTest: [[0 0 1 0 0 0 0 0 0 330.0 115.0 5.0 4.5 3.0 9.34 1.0]\n",
            " [1 0 0 0 0 0 0 0 0 321.0 109.0 3.0 3.0 4.0 8.2 1.0]]\n"
          ]
        }
      ],
      "source": [
        "from sklearn.model_selection import train_test_split\n",
        "\n",
        "# Separação de dados para treino e dados para teste\n",
        "def split_data():\n",
        "  X, y = one_hot_encoding()\n",
        "  XTrain, XTest, YTrain, YTest = train_test_split(X, y, test_size=0.2)\n",
        "  print(\"XTrain:\", XTrain)\n",
        "  print(\"XTest:\", XTest)\n",
        "\n",
        "  # return XTrain, XTest, YTrain, YTest\n",
        "split_data()"
      ]
    }
  ],
  "metadata": {
    "colab": {
      "provenance": []
    },
    "kernelspec": {
      "display_name": "env",
      "language": "python",
      "name": "python3"
    },
    "language_info": {
      "codemirror_mode": {
        "name": "ipython",
        "version": 3
      },
      "file_extension": ".py",
      "mimetype": "text/x-python",
      "name": "python",
      "nbconvert_exporter": "python",
      "pygments_lexer": "ipython3",
      "version": "3.13.0"
    }
  },
  "nbformat": 4,
  "nbformat_minor": 0
}
